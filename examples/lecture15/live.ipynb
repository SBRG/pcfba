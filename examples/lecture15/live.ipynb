{
 "cells": [
  {
   "cell_type": "code",
   "execution_count": 19,
   "metadata": {
    "collapsed": true
   },
   "outputs": [],
   "source": [
    "import pandas as pd\n",
    "from cobra.io import load_json_model"
   ]
  },
  {
   "cell_type": "code",
   "execution_count": 20,
   "metadata": {
    "collapsed": true
   },
   "outputs": [],
   "source": [
    "df_meas = pd.read_csv('data/flux_intra_glucose_pcfba_R02.csv')\n",
    "df_meas = df_meas[ df_meas.flux.abs()<500]\n",
    "df_meas = df_meas[ df_meas.flux.abs()>5e-1]\n",
    "df_meas = df_meas[['rxn','vmeas']]"
   ]
  },
  {
   "cell_type": "code",
   "execution_count": 21,
   "metadata": {
    "collapsed": true
   },
   "outputs": [],
   "source": [
    "model = load_json_model('../data/models/json/iJO1366.json')"
   ]
  },
  {
   "cell_type": "code",
   "execution_count": 22,
   "metadata": {
    "collapsed": false
   },
   "outputs": [
    {
     "data": {
      "text/plain": [
       "<Solution 0.98 at 0x7f8e0d2a44d0>"
      ]
     },
     "execution_count": 22,
     "metadata": {},
     "output_type": "execute_result"
    }
   ],
   "source": [
    "model.optimize()"
   ]
  },
  {
   "cell_type": "code",
   "execution_count": 23,
   "metadata": {
    "collapsed": false
   },
   "outputs": [
    {
     "data": {
      "text/plain": [
       "<matplotlib.axes._subplots.AxesSubplot at 0x7f8e0d2a4610>"
      ]
     },
     "execution_count": 23,
     "metadata": {},
     "output_type": "execute_result"
    },
    {
     "data": {
      "image/png": "[encoded data removed]",
      "text/plain": [
       "<matplotlib.figure.Figure at 0x7f8e0000e050>"
      ]
     },
     "metadata": {},
     "output_type": "display_data"
    }
   ],
   "source": [
    "import seaborn as sns\n",
    "%matplotlib inline\n",
    "\n",
    "df_sim = pd.DataFrame([{'rxn':r.id, 'vsim':r.x} for r in model.reactions])\n",
    "df_val = pd.merge(df_meas, df_sim, on='rxn')\n",
    "df_val0 = pd.merge(df_meas, df_sim, on='rxn')\n",
    "df_val[df_val.vsim.abs()<100].plot('vmeas','vsim', linestyle='None', marker='.')"
   ]
  },
  {
   "cell_type": "markdown",
   "metadata": {},
   "source": [
    "\\begin{align}\n",
    "\\min_{v,e}   \\quad & c^T v + e^T Q e \\\\\n",
    "\\mathrm{s.t} \\quad & Sv = 0 \\\\\n",
    "                   & l \\leq v \\leq u \\\\\n",
    "                   & e_j - v_j = - v^*_j \\quad j\\in Meas\n",
    "\\end{align}"
   ]
  },
  {
   "cell_type": "code",
   "execution_count": 24,
   "metadata": {
    "collapsed": false
   },
   "outputs": [],
   "source": [
    "from cobra import Metabolite, Reaction\n",
    "\n",
    "class Variable(Reaction):\n",
    "    pass\n",
    "\n",
    "class Constraint(Metabolite):\n",
    "    pass"
   ]
  },
  {
   "cell_type": "code",
   "execution_count": 25,
   "metadata": {
    "collapsed": true
   },
   "outputs": [],
   "source": [
    "model = load_json_model('../data/models/json/iJO1366.json')\n",
    "\n",
    "for i,row in df_val.iterrows():\n",
    "    vmeas = row['vmeas']\n",
    "    rxn = model.reactions.get_by_id(row['rxn'])\n",
    "    e = Variable('err_%s'%rxn.id)\n",
    "    e.lower_bound = -1e6\n",
    "    e.upper_bound = 1e6\n",
    "    model.add_reaction(e)\n",
    "    \n",
    "    cons = Constraint('cons_err_%s'%rxn.id)\n",
    "    cons._bound = -vmeas\n",
    "    cons._constraint_sense = 'E'\n",
    "    model.add_metabolites(cons)\n",
    "    \n",
    "    e.add_metabolites({cons:1.})\n",
    "    rxn.add_metabolites({cons:-1.})\n",
    "\n",
    "for rxn in model.reactions:\n",
    "    rxn.objective_coefficient = 0\n",
    "\n",
    "from scipy.sparse import dok_matrix\n",
    "\n",
    "n = len(model.reactions)\n",
    "Q = dok_matrix((n,n))\n",
    "\n",
    "for e in model.reactions.query('err_'):\n",
    "    ind = model.reactions.index(e)\n",
    "    Q[ind,ind] = 1."
   ]
  },
  {
   "cell_type": "code",
   "execution_count": 26,
   "metadata": {
    "collapsed": false
   },
   "outputs": [
    {
     "data": {
      "text/plain": [
       "<Solution 5.54 at 0x7f8e02825190>"
      ]
     },
     "execution_count": 26,
     "metadata": {},
     "output_type": "execute_result"
    }
   ],
   "source": [
    "model.optimize('minimize', quadratic_component=Q, solver='gurobi')"
   ]
  },
  {
   "cell_type": "code",
   "execution_count": 27,
   "metadata": {
    "collapsed": false
   },
   "outputs": [
    {
     "data": {
      "text/plain": [
       "<seaborn.axisgrid.FacetGrid at 0x7f8df38cec90>"
      ]
     },
     "execution_count": 27,
     "metadata": {},
     "output_type": "execute_result"
    },
    {
     "data": {
      "image/png": "[encoded data removed]",
      "text/plain": [
       "<matplotlib.figure.Figure at 0x7f8e03aa1f10>"
      ]
     },
     "metadata": {},
     "output_type": "display_data"
    }
   ],
   "source": [
    "import seaborn as sns\n",
    "%matplotlib inline\n",
    "\n",
    "df_sim = pd.DataFrame([{'rxn':r.id, 'vsim':r.x} for r in model.reactions])\n",
    "df_val = pd.merge(df_meas, df_sim, on='rxn')\n",
    "# df_val[df_val.vsim.abs()<100].plot('vmeas','vsim', linestyle='None', marker='.')\n",
    "df_val.loc[:,'model'] = 'QP'\n",
    "df_val0.loc[:,'model'] = 'base'\n",
    "\n",
    "df_val2 = pd.concat([df_val0, df_val])\n",
    "\n",
    "import matplotlib.pyplot as plt\n",
    "sns.set_palette('nipy_spectral')\n",
    "g = sns.FacetGrid(df_val2[df_val2.vsim.abs()<100], hue='model', size=4)\n",
    "g.map(plt.scatter, 'vmeas', 'vsim', s=12)\n",
    "g.add_legend()"
   ]
  },
  {
   "cell_type": "markdown",
   "metadata": {},
   "source": [
    "---"
   ]
  },
  {
   "cell_type": "markdown",
   "metadata": {},
   "source": [
    "\\begin{align}\n",
    "\\min_{v,e,y}   \\quad & e^T Q e \\\\\n",
    "\\mathrm{s.t} \\quad & Sv = 0 \\\\\n",
    "                   & l \\leq v \\leq u \\\\\n",
    "                   & e_j - v_j = - v^*_j, \\quad j\\in Meas \\\\\n",
    "                   & -M y_j - \\epsilon \\leq v_j - v^r_j \\leq M y_j + \\epsilon,  \\quad j\\in Meas \\\\\n",
    "                   & \\sum_j y_j \\leq K \\\\\n",
    "                   & y \\in \\{0,1\\}\n",
    "\\end{align}"
   ]
  },
  {
   "cell_type": "code",
   "execution_count": 28,
   "metadata": {
    "collapsed": true
   },
   "outputs": [],
   "source": [
    "M = 1e3\n",
    "EPSILON = 1e-5\n",
    "K = 10"
   ]
  },
  {
   "cell_type": "code",
   "execution_count": 29,
   "metadata": {
    "collapsed": false
   },
   "outputs": [
    {
     "data": {
      "text/plain": [
       "<Solution 0.98 at 0x7f8df3a71490>"
      ]
     },
     "execution_count": 29,
     "metadata": {},
     "output_type": "execute_result"
    }
   ],
   "source": [
    "model_ref = load_json_model('../data/models/json/iJO1366.json')\n",
    "model_ref.optimize()"
   ]
  },
  {
   "cell_type": "code",
   "execution_count": 30,
   "metadata": {
    "collapsed": true
   },
   "outputs": [],
   "source": [
    "model = load_json_model('../data/models/json/iJO1366.json')\n",
    "\n",
    "for i,row in df_val.iterrows():\n",
    "    vmeas = row['vmeas']\n",
    "    rxn = model.reactions.get_by_id(row['rxn'])\n",
    "    e = Variable('err_%s'%rxn.id)\n",
    "    e.lower_bound = -1e6\n",
    "    e.upper_bound = 1e6\n",
    "    model.add_reaction(e)\n",
    "    \n",
    "    cons = Constraint('cons_err_%s'%rxn.id)\n",
    "    cons._bound = -vmeas\n",
    "    cons._constraint_sense = 'E'\n",
    "    model.add_metabolites(cons)\n",
    "    \n",
    "    e.add_metabolites({cons:1.})\n",
    "    rxn.add_metabolites({cons:-1.})\n",
    "\n",
    "for rxn in model.reactions:\n",
    "    rxn.objective_coefficient = 0\n",
    "\n",
    "from scipy.sparse import dok_matrix\n",
    "\n",
    "n = len(model.reactions)\n",
    "Q = dok_matrix((n,n))\n",
    "\n",
    "for e in model.reactions.query('err_'):\n",
    "    ind = model.reactions.index(e)\n",
    "    Q[ind,ind] = 1.\n",
    "    \n",
    "    \n",
    "### LOOK HERE FIRST IF INFEASIBLE\n",
    "# v - vref <= M * y + eps\n",
    "# v - M*y <= vref + eps\n",
    "#\n",
    "# -M * y -eps <= v - vref\n",
    "# v + M*y >= vref - eps\n",
    "\n",
    "for i,row in df_val.iterrows():\n",
    "    rxn = model.reactions.get_by_id(row['rxn'])\n",
    "    y = Variable('binary_%s'%rxn.id)\n",
    "    y.upper_bound = 1.\n",
    "    y.lower_bound = 0.\n",
    "    y.variable_kind = 'integer'\n",
    "    model.add_reaction(y)\n",
    "    \n",
    "    vref = model_ref.reactions.get_by_id(rxn.id).x\n",
    "    \n",
    "    cons_u = Constraint('cons_dev_u_%s'%rxn.id)\n",
    "    cons_u._constraint_sense = 'L'\n",
    "    cons_u._bound = vref + EPSILON\n",
    "    model.add_metabolites(cons_u)\n",
    "    \n",
    "    cons_l = Constraint('cons_dev_l_%s'%rxn.id)\n",
    "    cons_l._constraint_sense = 'G'\n",
    "    cons_l._bound = vref - EPSILON\n",
    "    model.add_metabolites(cons_l)\n",
    "\n",
    "    # v - M*y <= vref + eps\n",
    "    rxn.add_metabolites({cons_u:1.})\n",
    "    y.add_metabolites({cons_u:-M})\n",
    "    \n",
    "    # v + M*y >= vref - eps\n",
    "    rxn.add_metabolites({cons_l:1.})\n",
    "    y.add_metabolites({cons_l:M})\n",
    "    \n",
    "# sum_y <= K\n",
    "cons_max_bin = Metabolite('cons_max_bin')\n",
    "cons_max_bin._bound = K\n",
    "cons_max_bin._constraint_sense = 'L'\n",
    "model.add_metabolites(cons_max_bin)\n",
    "\n",
    "for y in model.reactions.query('binary_'):\n",
    "    y.add_metabolites({cons_max_bin:1.})"
   ]
  },
  {
   "cell_type": "code",
   "execution_count": 31,
   "metadata": {
    "collapsed": false
   },
   "outputs": [
    {
     "data": {
      "text/plain": [
       "51"
      ]
     },
     "execution_count": 31,
     "metadata": {},
     "output_type": "execute_result"
    }
   ],
   "source": [
    "N_MEAS = len(df_val.rxn.unique())\n",
    "N_MEAS"
   ]
  },
  {
   "cell_type": "code",
   "execution_count": 44,
   "metadata": {
    "collapsed": false
   },
   "outputs": [
    {
     "name": "stdout",
     "output_type": "stream",
     "text": [
      "K=1. objval=1.4925e+06. mu=0.98236.\n",
      "K=6. objval=194.189. mu=0.797651.\n",
      "K=11. objval=101.018. mu=0.171966.\n",
      "K=16. objval=59.096. mu=0.327435.\n"
     ]
    }
   ],
   "source": [
    "# Make growth an objective, but weighted smaller than the error minimization\n",
    "model.reactions.BIOMASS_Ec_iJO1366_core_53p95M.objective_coefficient = -1\n",
    "\n",
    "for K in range(1,20, 5):\n",
    "    cons_max_bin._bound = K\n",
    "    model.optimize('minimize', quadratic_component=Q, solver='gurobi')\n",
    "    objval = model.solution.f\n",
    "    muopt = model.reactions.BIOMASS_Ec_iJO1366_core_53p95M.x\n",
    "    print(\"K=%d. objval=%g. mu=%g.\"%(K, objval, muopt))"
   ]
  },
  {
   "cell_type": "code",
   "execution_count": 45,
   "metadata": {
    "collapsed": false
   },
   "outputs": [
    {
     "name": "stdout",
     "output_type": "stream",
     "text": [
      "16.0\n"
     ]
    }
   ],
   "source": [
    "n_changed_fluxes = sum([y.x for y in model.reactions.query('binary_')])\n",
    "print(n_changed_fluxes)"
   ]
  },
  {
   "cell_type": "code",
   "execution_count": 46,
   "metadata": {
    "collapsed": false
   },
   "outputs": [
    {
     "data": {
      "text/plain": [
       "[(u'binary_ACKr', 1.0),\n",
       " (u'binary_ACONTa', 1.0),\n",
       " (u'binary_ACONTb', 1.0),\n",
       " (u'binary_ADK1', 1.0),\n",
       " (u'binary_ADK3', 1.0),\n",
       " (u'binary_ALATA_L', 1.0),\n",
       " (u'binary_CS', 1.0),\n",
       " (u'binary_DHAPT', 1.0),\n",
       " (u'binary_FUM', 1.0),\n",
       " (u'binary_ICDHyr', 1.0),\n",
       " (u'binary_NADH5', 1.0),\n",
       " (u'binary_NADPHQR2', 1.0),\n",
       " (u'binary_PFL', 1.0),\n",
       " (u'binary_PGI', 1.0),\n",
       " (u'binary_PPKr', 1.0),\n",
       " (u'binary_PTAr', 1.0)]"
      ]
     },
     "execution_count": 46,
     "metadata": {},
     "output_type": "execute_result"
    }
   ],
   "source": [
    "[(y.id,y.x) for y in model.reactions.query('binary_') if y.x > 0.5]"
   ]
  }
 ],
 "metadata": {
  "kernelspec": {
   "display_name": "Python 2",
   "language": "python",
   "name": "python2"
  },
  "language_info": {
   "codemirror_mode": {
    "name": "ipython",
    "version": 2
   },
   "file_extension": ".py",
   "mimetype": "text/x-python",
   "name": "python",
   "nbconvert_exporter": "python",
   "pygments_lexer": "ipython2",
   "version": "2.7.6"
  }
 },
 "nbformat": 4,
 "nbformat_minor": 0
}
