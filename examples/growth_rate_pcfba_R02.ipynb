{
 "cells": [
  {
   "cell_type": "markdown",
   "metadata": {
    "deletable": true,
    "editable": true
   },
   "source": [
    "# Lecture 11: Modeling cellular protein allocation at the genome-scale\n",
    "\n",
    "## Worked example for formulating a proteome-constrained FBA model using minimal data"
   ]
  },
  {
   "cell_type": "markdown",
   "metadata": {
    "deletable": true,
    "editable": true
   },
   "source": [
    "## 1. Measured growth rates used for validation"
   ]
  },
  {
   "cell_type": "code",
   "execution_count": 1,
   "metadata": {
    "collapsed": false,
    "deletable": true,
    "editable": true
   },
   "outputs": [
    {
     "data": {
      "text/html": [
       "<div>\n",
       "<style scoped>\n",
       "    .dataframe tbody tr th:only-of-type {\n",
       "        vertical-align: middle;\n",
       "    }\n",
       "\n",
       "    .dataframe tbody tr th {\n",
       "        vertical-align: top;\n",
       "    }\n",
       "\n",
       "    .dataframe thead th {\n",
       "        text-align: right;\n",
       "    }\n",
       "</style>\n",
       "<table border=\"1\" class=\"dataframe\">\n",
       "  <thead>\n",
       "    <tr style=\"text-align: right;\">\n",
       "      <th></th>\n",
       "      <th>substrate</th>\n",
       "      <th>growth_rate_1_h</th>\n",
       "      <th>order</th>\n",
       "      <th>ex_rxn</th>\n",
       "    </tr>\n",
       "  </thead>\n",
       "  <tbody>\n",
       "    <tr>\n",
       "      <th>0</th>\n",
       "      <td>glucose</td>\n",
       "      <td>0.740</td>\n",
       "      <td>0.0</td>\n",
       "      <td>EX_glc__D_e</td>\n",
       "    </tr>\n",
       "    <tr>\n",
       "      <th>1</th>\n",
       "      <td>maltose</td>\n",
       "      <td>0.620</td>\n",
       "      <td>3.0</td>\n",
       "      <td>EX_malt_e</td>\n",
       "    </tr>\n",
       "    <tr>\n",
       "      <th>2</th>\n",
       "      <td>mannose</td>\n",
       "      <td>0.560</td>\n",
       "      <td>NaN</td>\n",
       "      <td>EX_man_e</td>\n",
       "    </tr>\n",
       "    <tr>\n",
       "      <th>3</th>\n",
       "      <td>fructose</td>\n",
       "      <td>0.550</td>\n",
       "      <td>NaN</td>\n",
       "      <td>EX_fru_e</td>\n",
       "    </tr>\n",
       "    <tr>\n",
       "      <th>4</th>\n",
       "      <td>galactose</td>\n",
       "      <td>0.520</td>\n",
       "      <td>2.0</td>\n",
       "      <td>EX_gal_e</td>\n",
       "    </tr>\n",
       "    <tr>\n",
       "      <th>5</th>\n",
       "      <td>succinate</td>\n",
       "      <td>0.460</td>\n",
       "      <td>NaN</td>\n",
       "      <td>EX_succ_e</td>\n",
       "    </tr>\n",
       "    <tr>\n",
       "      <th>6</th>\n",
       "      <td>malate</td>\n",
       "      <td>0.440</td>\n",
       "      <td>NaN</td>\n",
       "      <td>EX_mal__L_e</td>\n",
       "    </tr>\n",
       "    <tr>\n",
       "      <th>7</th>\n",
       "      <td>glycerol</td>\n",
       "      <td>0.420</td>\n",
       "      <td>4.0</td>\n",
       "      <td>EX_glyc_e</td>\n",
       "    </tr>\n",
       "    <tr>\n",
       "      <th>8</th>\n",
       "      <td>lactate</td>\n",
       "      <td>0.390</td>\n",
       "      <td>1.0</td>\n",
       "      <td>EX_lac__L_e</td>\n",
       "    </tr>\n",
       "    <tr>\n",
       "      <th>9</th>\n",
       "      <td>acetate</td>\n",
       "      <td>0.256</td>\n",
       "      <td>5.0</td>\n",
       "      <td>EX_ac_e</td>\n",
       "    </tr>\n",
       "  </tbody>\n",
       "</table>\n",
       "</div>"
      ],
      "text/plain": [
       "   substrate  growth_rate_1_h  order       ex_rxn\n",
       "0    glucose            0.740    0.0  EX_glc__D_e\n",
       "1    maltose            0.620    3.0    EX_malt_e\n",
       "2    mannose            0.560    NaN     EX_man_e\n",
       "3   fructose            0.550    NaN     EX_fru_e\n",
       "4  galactose            0.520    2.0     EX_gal_e\n",
       "5  succinate            0.460    NaN    EX_succ_e\n",
       "6     malate            0.440    NaN  EX_mal__L_e\n",
       "7   glycerol            0.420    4.0    EX_glyc_e\n",
       "8    lactate            0.390    1.0  EX_lac__L_e\n",
       "9    acetate            0.256    5.0      EX_ac_e"
      ]
     },
     "execution_count": 1,
     "metadata": {},
     "output_type": "execute_result"
    }
   ],
   "source": [
    "import pandas as pd\n",
    "\n",
    "df_meas = pd.read_csv('data/growth_meas.csv')\n",
    "df_meas"
   ]
  },
  {
   "cell_type": "markdown",
   "metadata": {
    "deletable": true,
    "editable": true
   },
   "source": [
    "---\n",
    "# Define some convenient simulation and plotting functions"
   ]
  },
  {
   "cell_type": "code",
   "execution_count": 2,
   "metadata": {
    "collapsed": true,
    "deletable": true,
    "editable": true
   },
   "outputs": [],
   "source": [
    "def simulate_media(model, df_meas, growth_id = 'BIOMASS_Ec_iJO1366_core_53p95M', max_uptake=-10, max_ac=-20, max_o2=-20):\n",
    "    model.reactions.EX_o2_e.lower_bound = max_o2\n",
    "    rows = []\n",
    "    for i,row in df_meas.iterrows():\n",
    "        # Reset uptakes\n",
    "        for rxn_id in df_meas.ex_rxn:\n",
    "            rxn = model.reactions.get_by_id(rxn_id)\n",
    "            rxn.lower_bound = 0\n",
    "        # Constrain model to this medium\n",
    "        substrate = row['substrate']\n",
    "        rid_medium = row['ex_rxn']\n",
    "        rxn_medium = model.reactions.get_by_id(rid_medium)    \n",
    "        if substrate=='acetate':\n",
    "            rxn_medium.lower_bound = max_ac\n",
    "        else:\n",
    "            rxn_medium.lower_bound = max_uptake\n",
    "        # Simulate\n",
    "        model.optimize()\n",
    "        if model.solution is not None and model.solution.status == 'optimal':\n",
    "            rxn_growth = model.reactions.get_by_id(growth_id)                    \n",
    "            rows.append({'substrate':substrate, 'Simulated':rxn_growth.x, 'uptake':rxn_medium.x})\n",
    "        else:\n",
    "            rows.append({'substrate':substrate, 'Simulated':0, 'uptake':np.nan})\n",
    "\n",
    "    df_sim = pd.DataFrame(rows)\n",
    "    df_val = pd.merge(df_sim, df_meas, on='substrate')\n",
    "    df_val.loc[:,'Measured'] = df_val.growth_rate_1_h\n",
    "    \n",
    "    return df_val"
   ]
  },
  {
   "cell_type": "code",
   "execution_count": 3,
   "metadata": {
    "collapsed": false,
    "deletable": true,
    "editable": true
   },
   "outputs": [],
   "source": [
    "import seaborn as sns\n",
    "import matplotlib.pyplot as plt\n",
    "import scipy.stats as stats\n",
    "from sklearn.metrics import r2_score\n",
    "\n",
    "%matplotlib inline\n",
    "\n",
    "def plot_growth(df_val):\n",
    "    g = sns.FacetGrid(df_val, size=5, aspect=1)\n",
    "    g.map(plt.plot, 'Measured','Simulated', linestyle='None', marker='o', zorder=3, markersize=9, markeredgecolor='black', alpha=0.75)\n",
    "    mumax = max(df_val.Measured.max(), df_val.Simulated.max())*1.05\n",
    "    n_subs = len(df_val.substrate.unique())        \n",
    "    for ax in g.axes.flat:\n",
    "        ax.plot([0,mumax],[0,mumax], color='#333333')\n",
    "        for k,(i,row) in enumerate(df_val.sort_values('Simulated').iterrows()):\n",
    "            substrate = row['substrate']\n",
    "            x = row['Measured']\n",
    "            y = row['Simulated']\n",
    "            xx = mumax\n",
    "            #xx = x+mumax*0.1\n",
    "            yy = (k)*mumax/n_subs\n",
    "            ax.plot([x,xx], [y,yy], color='#000000', alpha=0.5)\n",
    "            ax.text(xx, yy, substrate, ha='left', va='center')\n",
    "    ### Performance\n",
    "    r,p = stats.pearsonr(df_val.Measured, df_val.Simulated)\n",
    "    rho,prho = stats.spearmanr(df_val.Measured, df_val.Simulated)\n",
    "    r2 = r2_score(df_val.Measured, df_val.Simulated)\n",
    "    ax.set_title(\"R^2=%.3g. r=%.3g (p=%.2g)\\nrho=%.3g (p=%.2g)\" %(r2,r,p,rho,prho))\n",
    "    \n",
    "    return g"
   ]
  },
  {
   "cell_type": "code",
   "execution_count": 4,
   "metadata": {
    "collapsed": false,
    "deletable": true,
    "editable": true
   },
   "outputs": [],
   "source": [
    "def plot_ensemble(df_val):\n",
    "    df_mean = df_val.groupby('substrate')[['Measured','Simulated']].mean().reset_index()\n",
    "    cmap = 'nipy_spectral'\n",
    "    g = sns.FacetGrid(df_val, size=5, aspect=1, hue='substrate')\n",
    "    g.map(plt.plot, 'Measured','Simulated', linestyle='None', marker='.', zorder=3, markersize=6, alpha=0.9) #, markeredgecolor='black')    \n",
    "    mumax = max(df_val.Measured.max(), df_val.Simulated.max())*1.05\n",
    "    nSubs = len(df_val.substrate.unique())\n",
    "    sns.set_palette(cmap, nSubs)\n",
    "    plt.plot([0,mumax],[0,mumax], color='#333333')    \n",
    "    n_subs = len(df_val.substrate.unique())        \n",
    "    \n",
    "    #pts = plt.scatter('Measured','Simulated', linestyle='None', marker='o', zorder=4, s=64, alpha=0.9, edgecolor='black', data = df_mean, cmap=cmap)\n",
    "    for ax in g.axes.flat:\n",
    "        pts = ax.scatter('Measured','Simulated', linestyle='None', marker='o', zorder=4, s=64, alpha=0.9, edgecolor='black', data = df_mean, facecolor='None')\n",
    "                \n",
    "        for k,(i,row) in enumerate(df_mean.sort_values('Simulated').iterrows()):\n",
    "            substrate = row['substrate']\n",
    "            x = row['Measured']\n",
    "            y = row['Simulated']\n",
    "            xx = mumax\n",
    "            #xx = x+mumax*0.1\n",
    "            yy = (k)*mumax/n_subs\n",
    "            ax.plot([x,xx], [y,yy], color='#333333', alpha=0.5, zorder=1)\n",
    "            ax.text(xx, yy, substrate, ha='left', va='center')\n",
    "\n",
    "    ### Performance\n",
    "    r,p = stats.pearsonr(df_val.Measured, df_val.Simulated)\n",
    "    rho,prho = stats.spearmanr(df_val.Measured, df_val.Simulated)\n",
    "    r2 = r2_score(df_val.Measured, df_val.Simulated)\n",
    "    ax.set_title(\"R^2=%.3g. r=%.3g (p=%.2g)\\nrho=%.3g (p=%.2g)\" %(r2,r,p,rho,prho))\n",
    "    return g"
   ]
  },
  {
   "cell_type": "markdown",
   "metadata": {
    "deletable": true,
    "editable": true
   },
   "source": [
    "## 2. Simulate FBA without protein constraints"
   ]
  },
  {
   "cell_type": "code",
   "execution_count": 7,
   "metadata": {
    "collapsed": false,
    "deletable": true,
    "editable": true
   },
   "outputs": [
    {
     "data": {
      "text/plain": [
       "<Solution 0.98 at 0x7f474751b0d0>"
      ]
     },
     "execution_count": 7,
     "metadata": {},
     "output_type": "execute_result"
    }
   ],
   "source": [
    "from cobra.io import load_json_model\n",
    "\n",
    "model = load_json_model('data/iJO1366.json')\n",
    "model.reactions.EX_o2_e.lower_bound = -20\n",
    "model.optimize()"
   ]
  },
  {
   "cell_type": "code",
   "execution_count": 8,
   "metadata": {
    "collapsed": false,
    "deletable": true,
    "editable": true
   },
   "outputs": [],
   "source": [
    "df_val = simulate_media(model, df_meas)"
   ]
  },
  {
   "cell_type": "code",
   "execution_count": 9,
   "metadata": {
    "collapsed": false,
    "deletable": true,
    "editable": true
   },
   "outputs": [
    {
     "data": {
      "image/png": "[encoded data removed]",
      "text/plain": [
       "<matplotlib.figure.Figure at 0x7f47478ed4d0>"
      ]
     },
     "metadata": {},
     "output_type": "display_data"
    }
   ],
   "source": [
    "g = plot_growth(df_val)"
   ]
  },
  {
   "cell_type": "code",
   "execution_count": 10,
   "metadata": {
    "collapsed": false,
    "deletable": true,
    "editable": true
   },
   "outputs": [],
   "source": [
    "# import matplotlib.pyplot as plt\n",
    "# plt.rcParams['svg.fonttype'] = 'none'\n",
    "\n",
    "# g.savefig('figures/mu_fba.pdf')\n",
    "# g.savefig('figures/mu_fba.svg')\n",
    "# g.savefig('figures/mu_fba.eps')\n",
    "# g.savefig('figures/mu_fba.png',dpi=500)"
   ]
  },
  {
   "cell_type": "markdown",
   "metadata": {
    "deletable": true,
    "editable": true
   },
   "source": [
    "## 3. Add protein constraints"
   ]
  },
  {
   "cell_type": "code",
   "execution_count": 11,
   "metadata": {
    "collapsed": true,
    "deletable": true,
    "editable": true
   },
   "outputs": [],
   "source": [
    "from cobra import Metabolite, Reaction\n",
    "\n",
    "class Constraint(Metabolite):\n",
    "    pass\n",
    "\n",
    "class Variable(Reaction):\n",
    "    pass"
   ]
  },
  {
   "cell_type": "markdown",
   "metadata": {
    "deletable": true,
    "editable": true
   },
   "source": [
    "## Add protein capacity constraint\n",
    "$$\n",
    "\\begin{align}\n",
    "\\sum_{i\\in \\mathrm{Cytosolic}} w_i \\frac{v_i}{k_i} &\\leq P \\\\\n",
    "v & \\geq 0\n",
    "\\end{align}\n",
    "$$"
   ]
  },
  {
   "cell_type": "markdown",
   "metadata": {
    "deletable": true,
    "editable": true
   },
   "source": [
    "$$\n",
    "\\begin{align}\n",
    "\\max_v \\quad & c^T v \\\\\n",
    "\\mathrm{s.t} \\quad & S v = 0 \\\\\n",
    "& \\sum_{i\\in \\mathrm{Cytosolic}} \\frac{mw_i}{k_i} v_i \\leq P \\\\\n",
    "& l \\leq v \\leq u \\\\\n",
    "& v \\geq 0\n",
    "\\end{align}\n",
    "$$"
   ]
  },
  {
   "cell_type": "markdown",
   "metadata": {
    "deletable": true,
    "editable": true
   },
   "source": [
    "### Load protein molecular weights"
   ]
  },
  {
   "cell_type": "code",
   "execution_count": 12,
   "metadata": {
    "collapsed": false,
    "deletable": true,
    "editable": true
   },
   "outputs": [],
   "source": [
    "df_mws = pd.read_csv('data/ijomm_protmass_simple_mws_R02.csv')"
   ]
  },
  {
   "cell_type": "markdown",
   "metadata": {
    "deletable": true,
    "editable": true
   },
   "source": [
    "### Compute total protein mass estimate"
   ]
  },
  {
   "cell_type": "code",
   "execution_count": 13,
   "metadata": {
    "collapsed": false,
    "deletable": true,
    "editable": true
   },
   "outputs": [
    {
     "name": "stdout",
     "output_type": "stream",
     "text": [
      "Subsystems: 35\n",
      "Rxns within alternate carbon metab: 285\n",
      "Expressed protein (mmol/gDW): 0.004373244734484144\n",
      "Expressed protein (g/gDW): 0.3105739296612427\n"
     ]
    }
   ],
   "source": [
    "print 'Subsystems:', len(df_mws.subsystem.unique())\n",
    "print 'Rxns within alternate carbon metab:', len(df_mws.rxn[ df_mws.subsystem=='Alternate Carbon Metabolism'])\n",
    "\n",
    "ProtM = df_mws.mmol_gDW.sum()\n",
    "ProtGrams = df_mws.g_gDW.sum()\n",
    "print 'Expressed protein (mmol/gDW):', ProtM\n",
    "print 'Expressed protein (g/gDW):', ProtGrams"
   ]
  },
  {
   "cell_type": "markdown",
   "metadata": {
    "deletable": true,
    "editable": true
   },
   "source": [
    "### Minimal data requirements:\n",
    "1. Molecular weight of protein\n",
    "1. Basal keff estimate"
   ]
  },
  {
   "cell_type": "code",
   "execution_count": 14,
   "metadata": {
    "collapsed": false,
    "deletable": true,
    "editable": true
   },
   "outputs": [],
   "source": [
    "import numpy as np\n",
    "\n",
    "### Start from fresh M model\n",
    "pcfba = load_json_model('data/iJO1366.json')\n",
    "\n",
    "### Define some nominal turnover.\n",
    "### Assume same for all enzymes for now.\n",
    "KEFF_SCALE = 0.75\n",
    "KEFF_BASAL = 65. * KEFF_SCALE\n",
    "\n",
    "### Add crowding constraint:\n",
    "cons_crowding = Constraint('crowding')\n",
    "cons_crowding._constraint_sense = 'L'\n",
    "cons_crowding._bound = ProtGrams\n",
    "\n",
    "pcfba.add_metabolites([cons_crowding])\n",
    "\n",
    "### Track nominal keff dict for sensitivity analysis later\n",
    "coeff_dict = {}\n",
    "\n",
    "for rid in df_mws.bigg_id.unique():\n",
    "    dfi = df_mws[ df_mws.bigg_id==rid]\n",
    "    keff_nom = dfi['keff_nominal'].mean()\n",
    "    kDa = dfi['kDa'].mean()\n",
    "    rxn = pcfba.reactions.get_by_id(rid)    \n",
    "    keff = KEFF_BASAL\n",
    "    coeff = 1./keff/3600 * kDa\n",
    "    ### If rxn is reversible, need to split into positive parts\n",
    "    ### so that crowding constraint applies to only positive fluxes\n",
    "    if rxn.lower_bound < 0:\n",
    "        rxn_abs = Reaction(rxn.id + '_abs')\n",
    "        pcfba.add_reaction(rxn_abs)\n",
    "        # rabs >= r  :  rabs - r >= 0\n",
    "        # rabs >= -r :  rabs + r >= 0        \n",
    "        cons_abs_p = Constraint('cons_'+rxn.id+'_abs_p')\n",
    "        cons_abs_n = Constraint('cons_'+rxn.id+'_abs_n')\n",
    "        cons_abs_p._constraint_sense = 'G'\n",
    "        cons_abs_n._constraint_sense = 'G'\n",
    "        rxn_abs.add_metabolites({cons_abs_p: 1., cons_abs_n: 1.})\n",
    "        rxn.add_metabolites({cons_abs_p:-1., cons_abs_n:1.})        \n",
    "        rxn_abs.add_metabolites({cons_crowding:coeff })\n",
    "        coeff_dict[rxn_abs.id] = coeff\n",
    "    else:\n",
    "        rxn.add_metabolites({cons_crowding:coeff})\n",
    "        coeff_dict[rxn.id] = coeff"
   ]
  },
  {
   "cell_type": "markdown",
   "metadata": {
    "deletable": true,
    "editable": true
   },
   "source": [
    "## 4. Validate protein-constrained FBA"
   ]
  },
  {
   "cell_type": "code",
   "execution_count": 15,
   "metadata": {
    "collapsed": true,
    "deletable": true,
    "editable": true
   },
   "outputs": [],
   "source": [
    "df_pcfba = simulate_media(pcfba, df_meas)"
   ]
  },
  {
   "cell_type": "code",
   "execution_count": 16,
   "metadata": {
    "collapsed": false,
    "deletable": true,
    "editable": true
   },
   "outputs": [
    {
     "data": {
      "image/png": "[encoded data removed]",
      "text/plain": [
       "<matplotlib.figure.Figure at 0x7f4745cb8c10>"
      ]
     },
     "metadata": {},
     "output_type": "display_data"
    }
   ],
   "source": [
    "g = plot_growth(df_pcfba)"
   ]
  },
  {
   "cell_type": "code",
   "execution_count": 17,
   "metadata": {
    "collapsed": true,
    "deletable": true,
    "editable": true
   },
   "outputs": [],
   "source": [
    "# import matplotlib.pyplot as plt\n",
    "# plt.rcParams['svg.fonttype'] = 'none'\n",
    "\n",
    "# g.savefig('figures/mu_pcfba.pdf')\n",
    "# g.savefig('figures/mu_pcfba.svg')\n",
    "# g.savefig('figures/mu_pcfba.eps')\n",
    "# g.savefig('figures/mu_pcfba.png',dpi=500)"
   ]
  },
  {
   "cell_type": "markdown",
   "metadata": {
    "deletable": true,
    "editable": true
   },
   "source": [
    "# Do proteome constraints actively limit uptake?\n",
    "## I.e., can we relax uptake rates, like EX_glc_D_e = -1000\n",
    "## Will proteome constraint become limiting?"
   ]
  },
  {
   "cell_type": "code",
   "execution_count": 18,
   "metadata": {
    "collapsed": true,
    "deletable": true,
    "editable": true
   },
   "outputs": [],
   "source": [
    "df_uncons = simulate_media(pcfba, df_meas, max_uptake=-1000, max_ac=-1000)"
   ]
  },
  {
   "cell_type": "code",
   "execution_count": 19,
   "metadata": {
    "collapsed": false,
    "deletable": true,
    "editable": true
   },
   "outputs": [
    {
     "data": {
      "image/png": "[encoded data removed]",
      "text/plain": [
       "<matplotlib.figure.Figure at 0x7f4747741fd0>"
      ]
     },
     "metadata": {},
     "output_type": "display_data"
    }
   ],
   "source": [
    "g = plot_growth(df_uncons)"
   ]
  },
  {
   "cell_type": "code",
   "execution_count": 20,
   "metadata": {
    "collapsed": true,
    "deletable": true,
    "editable": true
   },
   "outputs": [],
   "source": [
    "# import matplotlib.pyplot as plt\n",
    "# plt.rcParams['svg.fonttype'] = 'none'\n",
    "\n",
    "# g.savefig('figures/mu_pcfba_freeup.pdf')\n",
    "# g.savefig('figures/mu_pcfba_freeup.svg')\n",
    "# g.savefig('figures/mu_pcfba_freeup.eps')\n",
    "# g.savefig('figures/mu_pcfba_freeup.png',dpi=500)"
   ]
  },
  {
   "cell_type": "code",
   "execution_count": null,
   "metadata": {
    "collapsed": false,
    "deletable": true,
    "editable": true
   },
   "outputs": [
    {
     "data": {
      "text/html": [
       "<div>\n",
       "<style scoped>\n",
       "    .dataframe tbody tr th:only-of-type {\n",
       "        vertical-align: middle;\n",
       "    }\n",
       "\n",
       "    .dataframe tbody tr th {\n",
       "        vertical-align: top;\n",
       "    }\n",
       "\n",
       "    .dataframe thead th {\n",
       "        text-align: right;\n",
       "    }\n",
       "</style>\n",
       "<table border=\"1\" class=\"dataframe\">\n",
       "  <thead>\n",
       "    <tr style=\"text-align: right;\">\n",
       "      <th></th>\n",
       "      <th>Simulated</th>\n",
       "      <th>substrate</th>\n",
       "      <th>uptake</th>\n",
       "      <th>growth_rate_1_h</th>\n",
       "      <th>order</th>\n",
       "      <th>ex_rxn</th>\n",
       "      <th>Measured</th>\n",
       "    </tr>\n",
       "  </thead>\n",
       "  <tbody>\n",
       "    <tr>\n",
       "      <th>0</th>\n",
       "      <td>0.629338</td>\n",
       "      <td>glucose</td>\n",
       "      <td>-9.126119</td>\n",
       "      <td>0.740</td>\n",
       "      <td>0.0</td>\n",
       "      <td>EX_glc__D_e</td>\n",
       "      <td>0.740</td>\n",
       "    </tr>\n",
       "    <tr>\n",
       "      <th>1</th>\n",
       "      <td>0.610234</td>\n",
       "      <td>maltose</td>\n",
       "      <td>-4.476351</td>\n",
       "      <td>0.620</td>\n",
       "      <td>3.0</td>\n",
       "      <td>EX_malt_e</td>\n",
       "      <td>0.620</td>\n",
       "    </tr>\n",
       "    <tr>\n",
       "      <th>2</th>\n",
       "      <td>0.615289</td>\n",
       "      <td>mannose</td>\n",
       "      <td>-9.023789</td>\n",
       "      <td>0.560</td>\n",
       "      <td>NaN</td>\n",
       "      <td>EX_man_e</td>\n",
       "      <td>0.560</td>\n",
       "    </tr>\n",
       "    <tr>\n",
       "      <th>3</th>\n",
       "      <td>0.619943</td>\n",
       "      <td>fructose</td>\n",
       "      <td>-9.089243</td>\n",
       "      <td>0.550</td>\n",
       "      <td>NaN</td>\n",
       "      <td>EX_fru_e</td>\n",
       "      <td>0.550</td>\n",
       "    </tr>\n",
       "    <tr>\n",
       "      <th>4</th>\n",
       "      <td>0.586086</td>\n",
       "      <td>galactose</td>\n",
       "      <td>-8.874101</td>\n",
       "      <td>0.520</td>\n",
       "      <td>2.0</td>\n",
       "      <td>EX_gal_e</td>\n",
       "      <td>0.520</td>\n",
       "    </tr>\n",
       "    <tr>\n",
       "      <th>5</th>\n",
       "      <td>0.508707</td>\n",
       "      <td>succinate</td>\n",
       "      <td>-20.503596</td>\n",
       "      <td>0.460</td>\n",
       "      <td>NaN</td>\n",
       "      <td>EX_succ_e</td>\n",
       "      <td>0.460</td>\n",
       "    </tr>\n",
       "    <tr>\n",
       "      <th>6</th>\n",
       "      <td>0.494403</td>\n",
       "      <td>malate</td>\n",
       "      <td>-19.343429</td>\n",
       "      <td>0.440</td>\n",
       "      <td>NaN</td>\n",
       "      <td>EX_mal__L_e</td>\n",
       "      <td>0.440</td>\n",
       "    </tr>\n",
       "    <tr>\n",
       "      <th>7</th>\n",
       "      <td>0.571195</td>\n",
       "      <td>glycerol</td>\n",
       "      <td>-13.994182</td>\n",
       "      <td>0.420</td>\n",
       "      <td>4.0</td>\n",
       "      <td>EX_glyc_e</td>\n",
       "      <td>0.420</td>\n",
       "    </tr>\n",
       "    <tr>\n",
       "      <th>8</th>\n",
       "      <td>0.480514</td>\n",
       "      <td>lactate</td>\n",
       "      <td>-19.918584</td>\n",
       "      <td>0.390</td>\n",
       "      <td>1.0</td>\n",
       "      <td>EX_lac__L_e</td>\n",
       "      <td>0.390</td>\n",
       "    </tr>\n",
       "    <tr>\n",
       "      <th>9</th>\n",
       "      <td>0.275885</td>\n",
       "      <td>acetate</td>\n",
       "      <td>-12.007729</td>\n",
       "      <td>0.256</td>\n",
       "      <td>5.0</td>\n",
       "      <td>EX_ac_e</td>\n",
       "      <td>0.256</td>\n",
       "    </tr>\n",
       "  </tbody>\n",
       "</table>\n",
       "</div>"
      ],
      "text/plain": [
       "   Simulated  substrate     uptake  growth_rate_1_h  order       ex_rxn  \\\n",
       "0   0.629338    glucose  -9.126119            0.740    0.0  EX_glc__D_e   \n",
       "1   0.610234    maltose  -4.476351            0.620    3.0    EX_malt_e   \n",
       "2   0.615289    mannose  -9.023789            0.560    NaN     EX_man_e   \n",
       "3   0.619943   fructose  -9.089243            0.550    NaN     EX_fru_e   \n",
       "4   0.586086  galactose  -8.874101            0.520    2.0     EX_gal_e   \n",
       "5   0.508707  succinate -20.503596            0.460    NaN    EX_succ_e   \n",
       "6   0.494403     malate -19.343429            0.440    NaN  EX_mal__L_e   \n",
       "7   0.571195   glycerol -13.994182            0.420    4.0    EX_glyc_e   \n",
       "8   0.480514    lactate -19.918584            0.390    1.0  EX_lac__L_e   \n",
       "9   0.275885    acetate -12.007729            0.256    5.0      EX_ac_e   \n",
       "\n",
       "   Measured  \n",
       "0     0.740  \n",
       "1     0.620  \n",
       "2     0.560  \n",
       "3     0.550  \n",
       "4     0.520  \n",
       "5     0.460  \n",
       "6     0.440  \n",
       "7     0.420  \n",
       "8     0.390  \n",
       "9     0.256  "
      ]
     },
     "execution_count": 21,
     "metadata": {},
     "output_type": "execute_result"
    }
   ],
   "source": [
    "df_uncons"
   ]
  },
  {
   "cell_type": "markdown",
   "metadata": {
    "deletable": true,
    "editable": true
   },
   "source": [
    "## 5. Sensitivity to coefficients"
   ]
  },
  {
   "cell_type": "code",
   "execution_count": null,
   "metadata": {
    "collapsed": false,
    "deletable": true,
    "editable": true
   },
   "outputs": [],
   "source": [
    "%%time\n",
    "\n",
    "N_RAND = 100\n",
    "\n",
    "import numpy as np\n",
    "\n",
    "nCrowd = len(pcfba.metabolites.crowding.reactions)\n",
    "crowding = pcfba.metabolites.crowding\n",
    "rmin = 0.5\n",
    "rmax = 2\n",
    "dfs = []\n",
    "for _iter in range(N_RAND):\n",
    "    for rxn in crowding.reactions:\n",
    "        k0 = coeff_dict[rxn.id]\n",
    "        r  = np.random.uniform(rmin,rmax)\n",
    "        rxn._metabolites[crowding] = k0*r\n",
    "\n",
    "    dfi = simulate_media(pcfba, df_meas, max_uptake=-1000, max_ac=-1000)\n",
    "    dfi.loc[:,'k'] = _iter\n",
    "    dfs.append(dfi)\n",
    "    \n",
    "df_rand = pd.concat(dfs)"
   ]
  },
  {
   "cell_type": "code",
   "execution_count": null,
   "metadata": {
    "collapsed": false,
    "deletable": true,
    "editable": true
   },
   "outputs": [],
   "source": [
    "g = plot_ensemble(df_rand)"
   ]
  },
  {
   "cell_type": "code",
   "execution_count": null,
   "metadata": {
    "collapsed": true,
    "deletable": true,
    "editable": true
   },
   "outputs": [],
   "source": [
    "# import matplotlib.pyplot as plt\n",
    "# plt.rcParams['svg.fonttype'] = 'none'\n",
    "\n",
    "# g.savefig('figures/mu_pcfba_freeup_rand.pdf')\n",
    "# g.savefig('figures/mu_pcfba_freeup_rand.svg')\n",
    "# g.savefig('figures/mu_pcfba_freeup_rand.eps')\n",
    "# g.savefig('figures/mu_pcfba_freeup_rand.png', dpi=500)"
   ]
  },
  {
   "cell_type": "markdown",
   "metadata": {
    "deletable": true,
    "editable": true
   },
   "source": [
    "## 6. Which perturbed coefficients gave the best growth rate?"
   ]
  },
  {
   "cell_type": "code",
   "execution_count": null,
   "metadata": {
    "collapsed": false,
    "deletable": true,
    "editable": true
   },
   "outputs": [],
   "source": [
    "df_perf = df_rand.groupby('k').apply(lambda x: r2_score(x['Measured'],x['Simulated']))\n",
    "r2_best = df_perf.max()\n",
    "kbest = df_perf[ df_perf==r2_best].index[0]\n",
    "print(\"Best coefficient of determination = %.3g\" % r2_best)"
   ]
  },
  {
   "cell_type": "code",
   "execution_count": null,
   "metadata": {
    "collapsed": true,
    "deletable": true,
    "editable": true
   },
   "outputs": [],
   "source": [
    "df_best = df_rand[ df_rand.k==kbest]"
   ]
  },
  {
   "cell_type": "code",
   "execution_count": null,
   "metadata": {
    "collapsed": false,
    "deletable": true,
    "editable": true
   },
   "outputs": [],
   "source": [
    "g = plot_growth(df_best)"
   ]
  },
  {
   "cell_type": "code",
   "execution_count": null,
   "metadata": {
    "collapsed": true,
    "deletable": true,
    "editable": true
   },
   "outputs": [],
   "source": [
    "# import matplotlib.pyplot as plt\n",
    "# plt.rcParams['svg.fonttype'] = 'none'\n",
    "\n",
    "# g.savefig('figures/mu_pcfba_freeup_best.pdf')\n",
    "# g.savefig('figures/mu_pcfba_freeup_best.svg')\n",
    "# g.savefig('figures/mu_pcfba_freeup_best.eps')\n",
    "# g.savefig('figures/mu_pcfba_freeup_best.png', dpi=500)"
   ]
  }
 ],
 "metadata": {
  "kernelspec": {
   "display_name": "Python 2",
   "language": "python",
   "name": "python2"
  },
  "language_info": {
   "codemirror_mode": {
    "name": "ipython",
    "version": 2
   },
   "file_extension": ".py",
   "mimetype": "text/x-python",
   "name": "python",
   "nbconvert_exporter": "python",
   "pygments_lexer": "ipython2",
   "version": "2.7.6"
  }
 },
 "nbformat": 4,
 "nbformat_minor": 2
}
